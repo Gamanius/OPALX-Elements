{
 "cells": [
  {
   "cell_type": "markdown",
   "metadata": {},
   "source": [
    "# OPAL - OPAL-X comparison\n"
   ]
  },
  {
   "cell_type": "markdown",
   "metadata": {},
   "source": [
    "## Load the Accelerated.stat file"
   ]
  },
  {
   "cell_type": "code",
   "execution_count": 19,
   "metadata": {},
   "outputs": [],
   "source": [
    "import sys\n",
    "sys.path.append('/psi/home/adelmann/git/pyOPALTools')\n",
    "import numpy as np\n",
    "from opal import load_dataset\n",
    "\n",
    "import pandas as pd\n",
    "import matplotlib.pyplot as plt\n",
    "from mpl_toolkits.mplot3d import Axes3D\n",
    "\n",
    "import ipywidgets as widgets\n",
    "from IPython.display import display\n",
    "import re\n",
    "%matplotlib notebook"
   ]
  },
  {
   "cell_type": "markdown",
   "metadata": {},
   "source": [
    "## Set the plotting style"
   ]
  },
  {
   "cell_type": "code",
   "execution_count": 20,
   "metadata": {},
   "outputs": [
    {
     "data": {
      "text/html": [
       "        <script type=\"text/javascript\">\n",
       "        window.PlotlyConfig = {MathJaxConfig: 'local'};\n",
       "        if (window.MathJax) {MathJax.Hub.Config({SVG: {font: \"STIX-Web\"}});}\n",
       "        if (typeof require !== 'undefined') {\n",
       "        require.undef(\"plotly\");\n",
       "        requirejs.config({\n",
       "            paths: {\n",
       "                'plotly': ['https://cdn.plot.ly/plotly-latest.min']\n",
       "            }\n",
       "        });\n",
       "        require(['plotly'], function(Plotly) {\n",
       "            window._Plotly = Plotly;\n",
       "        });\n",
       "        }\n",
       "        </script>\n",
       "        "
      ]
     },
     "metadata": {},
     "output_type": "display_data"
    }
   ],
   "source": [
    "from opal.visualization.styles import load_style\n",
    "\n",
    "load_style('jupyter')"
   ]
  },
  {
   "cell_type": "markdown",
   "metadata": {},
   "source": [
    "# OPAL and OPALX data directories on Merlin"
   ]
  },
  {
   "cell_type": "code",
   "execution_count": 21,
   "metadata": {},
   "outputs": [],
   "source": [
    "opaldir  = '/psi/home/adelmann/git/opal-src-4-opalx-debug/input-files/Drift-0/'\n",
    "opalxdir = '/psi/home/adelmann/opalx/input-files/'"
   ]
  },
  {
   "cell_type": "markdown",
   "metadata": {},
   "source": [
    "# Compare Beamsizes"
   ]
  },
  {
   "cell_type": "code",
   "execution_count": 22,
   "metadata": {},
   "outputs": [],
   "source": [
    "opalstat  = load_dataset(opaldir, fname='Drift-0.stat').dataframe\n",
    "opalxstat = load_dataset(opalxdir, fname='Drift-0.stat').dataframe"
   ]
  },
  {
   "cell_type": "code",
   "execution_count": 23,
   "metadata": {},
   "outputs": [
    {
     "name": "stdout",
     "output_type": "stream",
     "text": [
      "     rms_x     rms_y    rms_s        rms_px        rms_py        rms_ps  \\\n",
      "0  0.00097  0.004884  0.00988  9.717738e-07  9.721841e-07  9.838149e-07   \n",
      "\n",
      "             dE  \n",
      "0  5.021339e-07  \n"
     ]
    }
   ],
   "source": [
    "print(opalstat[['rms_x','rms_y','rms_s','rms_px','rms_py','rms_ps','dE']])"
   ]
  },
  {
   "cell_type": "code",
   "execution_count": 24,
   "metadata": {},
   "outputs": [
    {
     "name": "stdout",
     "output_type": "stream",
     "text": [
      "      rms_x    rms_y     rms_s        rms_px        rms_py    rms_ps        dE\n",
      "0  0.000989  0.00495  0.009862  9.970670e-07  9.971723e-07  0.000001  0.000162\n",
      "1  0.000989  0.00495  0.009862  9.970670e-07  9.971723e-07  0.000001  0.000162\n"
     ]
    }
   ],
   "source": [
    "print(opalxstat[['rms_x','rms_y','rms_s','rms_px','rms_py','rms_ps','dE']])"
   ]
  },
  {
   "cell_type": "code",
   "execution_count": null,
   "metadata": {},
   "outputs": [],
   "source": []
  }
 ],
 "metadata": {
  "kernelspec": {
   "display_name": "Python [conda env:conda-datascience_py37]",
   "language": "python",
   "name": "conda-env-conda-datascience_py37-py"
  },
  "language_info": {
   "codemirror_mode": {
    "name": "ipython",
    "version": 3
   },
   "file_extension": ".py",
   "mimetype": "text/x-python",
   "name": "python",
   "nbconvert_exporter": "python",
   "pygments_lexer": "ipython3",
   "version": "3.7.3"
  }
 },
 "nbformat": 4,
 "nbformat_minor": 4
}
